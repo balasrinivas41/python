{
 "cells": [
  {
   "cell_type": "code",
   "execution_count": 2,
   "metadata": {},
   "outputs": [
    {
     "name": "stdout",
     "output_type": "stream",
     "text": [
      "bala\n",
      "hari hi\n"
     ]
    }
   ],
   "source": [
    "a=\"hari\"\n",
    "print(\"bala\")\n",
    "print(str(a)+\" hi\")"
   ]
  },
  {
   "cell_type": "code",
   "execution_count": 8,
   "metadata": {},
   "outputs": [
    {
     "name": "stdout",
     "output_type": "stream",
     "text": [
      "a1 is 20 and a2 is 10\n",
      "hello bala,good night\n",
      "hello bala, srinivas and hari\n"
     ]
    }
   ],
   "source": [
    "#output formatting\n",
    "a1=10;a2=20\n",
    "print(\"a1 is {1} and a2 is {0}\".format(a1,a2))\n",
    "print(\"hello {name},{greeting}\".format(name=\"bala\",greeting=\"good night\"))\n",
    "print(\"hello {0}, {1} and {other}\".format(\"bala\",\"srinivas\",other=\"hari\"))\n"
   ]
  },
  {
   "cell_type": "code",
   "execution_count": 10,
   "metadata": {},
   "outputs": [
    {
     "name": "stdout",
     "output_type": "stream",
     "text": [
      "give input60\n",
      "60\n"
     ]
    }
   ],
   "source": [
    "#input\n",
    "num=input(\"give input\")\n",
    "print(num)"
   ]
  },
  {
   "cell_type": "code",
   "execution_count": null,
   "metadata": {},
   "outputs": [],
   "source": []
  }
 ],
 "metadata": {
  "kernelspec": {
   "display_name": "Python 3",
   "language": "python",
   "name": "python3"
  },
  "language_info": {
   "codemirror_mode": {
    "name": "ipython",
    "version": 3
   },
   "file_extension": ".py",
   "mimetype": "text/x-python",
   "name": "python",
   "nbconvert_exporter": "python",
   "pygments_lexer": "ipython3",
   "version": "3.6.4"
  }
 },
 "nbformat": 4,
 "nbformat_minor": 2
}
