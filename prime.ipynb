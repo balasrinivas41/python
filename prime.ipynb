{
 "cells": [
  {
   "cell_type": "code",
   "execution_count": 6,
   "metadata": {},
   "outputs": [
    {
     "name": "stdout",
     "output_type": "stream",
     "text": [
      "enter a number to check whether it is a prime or not\n",
      "16\n",
      "16is divisible by 2\n",
      "\n",
      "16is divisible by 4\n",
      "\n",
      "16is divisible by 8\n",
      "\n",
      "16 is a prime number\n",
      "\n"
     ]
    }
   ],
   "source": [
    "#prime number program\n",
    "a=int(input(\"enter a number to check whether it is a prime or not\\n\"))\n",
    "b=False\n",
    "i=2\n",
    "while i < a:\n",
    "    if a%i==0:\n",
    "        b=True\n",
    "        print(\"{}is divisible by {}\\n\".format(a,i))\n",
    "    i+=1\n",
    "if b:\n",
    "    print(\"{} is not a prime number\\n\".format(a))\n",
    "else:\n",
    "    print(\"{} is a prime number\".format(a))\n",
    "\n",
    "        "
   ]
  },
  {
   "cell_type": "code",
   "execution_count": null,
   "metadata": {},
   "outputs": [],
   "source": []
  },
  {
   "cell_type": "code",
   "execution_count": null,
   "metadata": {},
   "outputs": [],
   "source": []
  }
 ],
 "metadata": {
  "kernelspec": {
   "display_name": "Python 3",
   "language": "python",
   "name": "python3"
  },
  "language_info": {
   "codemirror_mode": {
    "name": "ipython",
    "version": 3
   },
   "file_extension": ".py",
   "mimetype": "text/x-python",
   "name": "python",
   "nbconvert_exporter": "python",
   "pygments_lexer": "ipython3",
   "version": "3.6.4"
  }
 },
 "nbformat": 4,
 "nbformat_minor": 2
}
