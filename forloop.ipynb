{
 "cells": [
  {
   "cell_type": "code",
   "execution_count": 11,
   "metadata": {},
   "outputs": [
    {
     "name": "stdout",
     "output_type": "stream",
     "text": [
      "product is 240000\n"
     ]
    }
   ],
   "source": [
    "lst=[10,20,30,40]\n",
    "prod=1\n",
    "for ele in lst:\n",
    "    prod*=ele\n",
    "print(\"product is {}\".format(prod))"
   ]
  },
  {
   "cell_type": "code",
   "execution_count": 12,
   "metadata": {},
   "outputs": [
    {
     "name": "stdout",
     "output_type": "stream",
     "text": [
      "0\n",
      "1\n",
      "2\n",
      "3\n",
      "4\n",
      "5\n",
      "6\n",
      "7\n",
      "8\n",
      "9\n",
      "1\n",
      "3\n",
      "5\n",
      "7\n",
      "9\n",
      "11\n",
      "13\n",
      "15\n",
      "17\n",
      "19\n"
     ]
    }
   ],
   "source": [
    "for i in range(10):\n",
    "    print(i)\n",
    "for i in range(1,20,2):\n",
    "    print(i)"
   ]
  },
  {
   "cell_type": "code",
   "execution_count": 13,
   "metadata": {},
   "outputs": [
    {
     "name": "stdout",
     "output_type": "stream",
     "text": [
      "hari\n",
      "thiru\n",
      "kiran\n",
      "bala\n",
      "naveen\n"
     ]
    }
   ],
   "source": [
    "lst1=[\"hari\",\"thiru\",\"kiran\",\"bala\",\"naveen\"]\n",
    "for index in range(len(lst1)):\n",
    "    print(lst1[index])"
   ]
  },
  {
   "cell_type": "code",
   "execution_count": 14,
   "metadata": {},
   "outputs": [
    {
     "name": "stdout",
     "output_type": "stream",
     "text": [
      "prime numbers between 600 and 700 are\n",
      "601\n",
      "607\n",
      "613\n",
      "617\n",
      "619\n",
      "631\n",
      "641\n",
      "643\n",
      "647\n",
      "653\n",
      "659\n",
      "661\n",
      "673\n",
      "677\n",
      "683\n",
      "691\n",
      "printing completed\n"
     ]
    }
   ],
   "source": [
    "# prime numbers in an interval\n",
    "index1=600\n",
    "index2=700\n",
    "print(\"prime numbers between {0} and {1} are\".format(index1,index2))\n",
    "for num in range(index1,index2+1):\n",
    "    if num>1:\n",
    "        isD=False\n",
    "        for index in range(2,num):\n",
    "            if num%index==0:\n",
    "                isD=True\n",
    "        if not isD:\n",
    "            print(num)\n",
    "else:\n",
    "    print(\"printing completed\")\n"
   ]
  },
  {
   "cell_type": "code",
   "execution_count": null,
   "metadata": {},
   "outputs": [],
   "source": []
  }
 ],
 "metadata": {
  "kernelspec": {
   "display_name": "Python 3",
   "language": "python",
   "name": "python3"
  },
  "language_info": {
   "codemirror_mode": {
    "name": "ipython",
    "version": 3
   },
   "file_extension": ".py",
   "mimetype": "text/x-python",
   "name": "python",
   "nbconvert_exporter": "python",
   "pygments_lexer": "ipython3",
   "version": "3.6.4"
  }
 },
 "nbformat": 4,
 "nbformat_minor": 2
}
