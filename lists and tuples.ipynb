{
 "cells": [
  {
   "cell_type": "code",
   "execution_count": 15,
   "metadata": {},
   "outputs": [
    {
     "name": "stdout",
     "output_type": "stream",
     "text": [
      "[12, 33.99999, 'hi']\n",
      "hello\n",
      "<class 'list'>\n"
     ]
    }
   ],
   "source": [
    "#lists demo\n",
    "a=[12,33.99999,\"hi\"]#lists are mutable\n",
    "print(a)\n",
    "a[2]=\"hello\"\n",
    "print(a[2])\n",
    "print(type(a))"
   ]
  },
  {
   "cell_type": "code",
   "execution_count": 16,
   "metadata": {},
   "outputs": [
    {
     "name": "stdout",
     "output_type": "stream",
     "text": [
      "(12, 33.99999, 'hi')\n",
      "hi\n",
      "<class 'tuple'>\n"
     ]
    }
   ],
   "source": [
    "#tuples demo\n",
    "a1=(12,33.99999,\"hi\")#tuples are unmutable\n",
    "print(a1)\n",
    "#a1[2]=\"hi\"#it is not possible\n",
    "\n",
    "print(a1[2])\n",
    "print(type(a1))"
   ]
  },
  {
   "cell_type": "code",
   "execution_count": 17,
   "metadata": {},
   "outputs": [
    {
     "name": "stdout",
     "output_type": "stream",
     "text": [
      "{4, 5, 6, 10, 600}\n",
      "<class 'set'>\n"
     ]
    }
   ],
   "source": [
    "#sets demo\n",
    "a2={10,10,600,600,600,6,5,4,4,4,4}\n",
    "print(a2)\n",
    "print(type(a2))#indexes won't work here"
   ]
  },
  {
   "cell_type": "code",
   "execution_count": 18,
   "metadata": {},
   "outputs": [
    {
     "name": "stdout",
     "output_type": "stream",
     "text": [
      "apple\n",
      "<class 'dict'>\n"
     ]
    }
   ],
   "source": [
    "#dictionaries\n",
    "a3={'a':\"apple\",'b':\"ball\",'c':\"cat\"}#type and value\n",
    "print(a3['a'])\n",
    "print(type(a3))"
   ]
  },
  {
   "cell_type": "code",
   "execution_count": 23,
   "metadata": {},
   "outputs": [
    {
     "name": "stdout",
     "output_type": "stream",
     "text": [
      "5.0\n",
      "5\n",
      "4\n"
     ]
    }
   ],
   "source": [
    "#conversion between data types\n",
    "print(float(5))\n",
    "print(str(5))\n",
    "print(int(4.89))"
   ]
  },
  {
   "cell_type": "code",
   "execution_count": 30,
   "metadata": {},
   "outputs": [
    {
     "name": "stdout",
     "output_type": "stream",
     "text": [
      "congratulations for hari adding 1000 lines of code\n"
     ]
    }
   ],
   "source": [
    "fig=\"hari\"\n",
    "lines=1000\n",
    "print(\"congratulations for \"+fig+\" adding \"+str(lines)+\" lines of code\")"
   ]
  },
  {
   "cell_type": "code",
   "execution_count": null,
   "metadata": {},
   "outputs": [],
   "source": []
  }
 ],
 "metadata": {
  "kernelspec": {
   "display_name": "Python 3",
   "language": "python",
   "name": "python3"
  },
  "language_info": {
   "codemirror_mode": {
    "name": "ipython",
    "version": 3
   },
   "file_extension": ".py",
   "mimetype": "text/x-python",
   "name": "python",
   "nbconvert_exporter": "python",
   "pygments_lexer": "ipython3",
   "version": "3.6.4"
  }
 },
 "nbformat": 4,
 "nbformat_minor": 2
}
