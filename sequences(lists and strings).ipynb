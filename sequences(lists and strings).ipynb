{
 "cells": [
  {
   "cell_type": "code",
   "execution_count": 1,
   "metadata": {},
   "outputs": [
    {
     "name": "stdout",
     "output_type": "stream",
     "text": [
      "g\n"
     ]
    }
   ],
   "source": [
    "x=\"frog\"\n",
    "print(x[3])"
   ]
  },
  {
   "cell_type": "code",
   "execution_count": 2,
   "metadata": {},
   "outputs": [
    {
     "name": "stdout",
     "output_type": "stream",
     "text": [
      "['pig', 'cow', 'horse']\n"
     ]
    }
   ],
   "source": [
    "x1=[\"pig\",\"cow\",\"horse\"]\n",
    "print(x1)"
   ]
  },
  {
   "cell_type": "code",
   "execution_count": 3,
   "metadata": {},
   "outputs": [
    {
     "name": "stdout",
     "output_type": "stream",
     "text": [
      "omp\n",
      "opt\n",
      "puter\n",
      "compu\n",
      "r\n",
      "ter\n",
      "comput\n"
     ]
    }
   ],
   "source": [
    "#slicing\n",
    "x2=\"computer\"\n",
    "print(x2[1:4])\n",
    "print(x2[1:6:2])\n",
    "print(x2[3:])\n",
    "print(x2[:5])\n",
    "print(x2[-1])\n",
    "print(x2[-3:])\n",
    "print(x2[:-2])"
   ]
  },
  {
   "cell_type": "code",
   "execution_count": 6,
   "metadata": {},
   "outputs": [
    {
     "name": "stdout",
     "output_type": "stream",
     "text": [
      "horseshoe\n",
      "['pig', 'cow', 'horse']\n"
     ]
    }
   ],
   "source": [
    "#concatenation\n",
    "x3=\"horse\"+\"shoe\"\n",
    "print(x3)\n",
    "x4=[\"pig\",\"cow\"]+[\"horse\"]\n",
    "print(x4)\n"
   ]
  },
  {
   "cell_type": "code",
   "execution_count": 8,
   "metadata": {},
   "outputs": [
    {
     "name": "stdout",
     "output_type": "stream",
     "text": [
      "bugbugbug\n",
      "[8, 5, 6, 8, 5, 6, 8, 5, 6, 8, 5, 6]\n"
     ]
    }
   ],
   "source": [
    "#multiplying\n",
    "x5=\"bug\"*3\n",
    "print(x5)\n",
    "\n",
    "x6=[8,5,6]*4\n",
    "print(x6)"
   ]
  },
  {
   "cell_type": "code",
   "execution_count": 14,
   "metadata": {},
   "outputs": [
    {
     "name": "stdout",
     "output_type": "stream",
     "text": [
      "True\n",
      "False\n"
     ]
    }
   ],
   "source": [
    "#check membership\n",
    "x7=\"bug\"\n",
    "print(\"u\" in x7)\n",
    "x8=[\"cow\",\"pig\",\"horse\"]\n",
    "print(\"cow\" not in x8)"
   ]
  },
  {
   "cell_type": "code",
   "execution_count": 17,
   "metadata": {},
   "outputs": [
    {
     "name": "stdout",
     "output_type": "stream",
     "text": [
      "14\n",
      "16\n",
      "18\n",
      "0 7\n",
      "1 8\n",
      "2 9\n"
     ]
    }
   ],
   "source": [
    "#iterating\n",
    "x9=[7,8,9]\n",
    "for item in x9:\n",
    "    print(item*2)\n",
    "for index,item in enumerate(x9):\n",
    "    print(index,item)"
   ]
  },
  {
   "cell_type": "code",
   "execution_count": null,
   "metadata": {},
   "outputs": [],
   "source": []
  }
 ],
 "metadata": {
  "kernelspec": {
   "display_name": "Python 3",
   "language": "python",
   "name": "python3"
  },
  "language_info": {
   "codemirror_mode": {
    "name": "ipython",
    "version": 3
   },
   "file_extension": ".py",
   "mimetype": "text/x-python",
   "name": "python",
   "nbconvert_exporter": "python",
   "pygments_lexer": "ipython3",
   "version": "3.6.4"
  }
 },
 "nbformat": 4,
 "nbformat_minor": 2
}
