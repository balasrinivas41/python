{
 "cells": [
  {
   "cell_type": "code",
   "execution_count": 3,
   "metadata": {},
   "outputs": [
    {
     "name": "stdout",
     "output_type": "stream",
     "text": [
      "['bala', 'hari', 'kiran'] [1, 2, 3, 4]\n"
     ]
    }
   ],
   "source": [
    "e=[]\n",
    "e1=[\"bala\",\"hari\",\"kiran\"]\n",
    "e2=[1,2,3,4]\n",
    "print(e1,e2)"
   ]
  },
  {
   "cell_type": "code",
   "execution_count": 6,
   "metadata": {},
   "outputs": [
    {
     "name": "stdout",
     "output_type": "stream",
     "text": [
      "7\n"
     ]
    }
   ],
   "source": [
    "lst1=[1,2,3,4,5,6,7]\n",
    "print(len(lst1))#finding length"
   ]
  },
  {
   "cell_type": "code",
   "execution_count": 5,
   "metadata": {},
   "outputs": [
    {
     "name": "stdout",
     "output_type": "stream",
     "text": [
      "8\n"
     ]
    }
   ],
   "source": [
    "lst1.append(8)# add item at the end\n",
    "print(len(lst1))"
   ]
  },
  {
   "cell_type": "code",
   "execution_count": 10,
   "metadata": {},
   "outputs": [
    {
     "name": "stdout",
     "output_type": "stream",
     "text": [
      "['one', 'two', 'three', 'four']\n"
     ]
    }
   ],
   "source": [
    "lst2=[\"one\",\"two\",\"four\"]\n",
    "lst2.insert(2,\"three\")\n",
    "print(lst2)"
   ]
  },
  {
   "cell_type": "code",
   "execution_count": 11,
   "metadata": {},
   "outputs": [
    {
     "name": "stdout",
     "output_type": "stream",
     "text": [
      "['one', 'three', 'four', 'two']\n"
     ]
    }
   ],
   "source": [
    "#remove an element from list\n",
    "lst3=[\"one\",\"two\",\"three\",\"four\",\"two\"]\n",
    "lst3.remove(\"two\")\n",
    "print(lst3)"
   ]
  },
  {
   "cell_type": "code",
   "execution_count": 13,
   "metadata": {},
   "outputs": [
    {
     "name": "stdout",
     "output_type": "stream",
     "text": [
      "['one', 'two', 'three', 'four', ['five', 'six']]\n",
      "['one', 'two', 'three', 'four', ['five', 'six'], 'five', 'six']\n"
     ]
    }
   ],
   "source": [
    "#list append and extend\n",
    "lst4=[\"one\",\"two\",\"three\",\"four\"]\n",
    "lst5=[\"five\",\"six\"]\n",
    "lst4.append(lst5)\n",
    "print(lst4)\n",
    "lst4.extend(lst5)\n",
    "print(lst4)"
   ]
  },
  {
   "cell_type": "code",
   "execution_count": 19,
   "metadata": {},
   "outputs": [
    {
     "name": "stdout",
     "output_type": "stream",
     "text": [
      "['one', 'three', 'four']\n",
      "['one', 'four']\n",
      "three\n"
     ]
    }
   ],
   "source": [
    "#delete vs pop\n",
    "lst6=[\"one\",\"two\",\"three\",\"four\"]\n",
    "del lst6[1]\n",
    "print(lst6)\n",
    "a=lst6.pop(1)\n",
    "print(lst6)\n",
    "print(a)\n"
   ]
  },
  {
   "cell_type": "code",
   "execution_count": 21,
   "metadata": {},
   "outputs": [
    {
     "name": "stdout",
     "output_type": "stream",
     "text": [
      "ml\n",
      "ai\n"
     ]
    }
   ],
   "source": [
    "#in is used to test whether an element present or not\n",
    "lst7=[\"one\",\"two\",\"three\",\"four\"]\n",
    "if \"two\" in lst7:\n",
    "    print(\"ml\")\n",
    "if \"six\" not in lst7:\n",
    "    print(\"ai\")\n"
   ]
  },
  {
   "cell_type": "code",
   "execution_count": 26,
   "metadata": {},
   "outputs": [
    {
     "name": "stdout",
     "output_type": "stream",
     "text": [
      "[1, 2, 3, 6, 8]\n",
      "[3, 1, 6, 2, 8]\n"
     ]
    }
   ],
   "source": [
    "#sorted\n",
    "numbers=[3,1,6,2,8]\n",
    "sor=sorted(numbers)\n",
    "print(sor)\n",
    "print(numbers)"
   ]
  },
  {
   "cell_type": "code",
   "execution_count": 27,
   "metadata": {},
   "outputs": [
    {
     "name": "stdout",
     "output_type": "stream",
     "text": [
      "[8, 6, 3, 2, 1]\n",
      "[3, 1, 6, 2, 8]\n"
     ]
    }
   ],
   "source": [
    "#reverse sorted , here original list doesnt get change\n",
    "numbers1=[3,1,6,2,8]\n",
    "sor1=sorted(numbers1,reverse=True)\n",
    "print(sor1)\n",
    "print(numbers1)"
   ]
  },
  {
   "cell_type": "code",
   "execution_count": 28,
   "metadata": {},
   "outputs": [
    {
     "name": "stdout",
     "output_type": "stream",
     "text": [
      "[3, 1, 6, 2, 8]\n",
      "[1, 2, 3, 6, 8]\n"
     ]
    }
   ],
   "source": [
    "#sort the list and stored in the original list\n",
    "numbers2=[3,1,6,2,8]\n",
    "#sor1=sorted(numbers1,reverse=True)\n",
    "print(numbers2)\n",
    "numbers2.sort()\n",
    "print(numbers2)"
   ]
  },
  {
   "cell_type": "code",
   "execution_count": null,
   "metadata": {},
   "outputs": [],
   "source": []
  }
 ],
 "metadata": {
  "kernelspec": {
   "display_name": "Python 3",
   "language": "python",
   "name": "python3"
  },
  "language_info": {
   "codemirror_mode": {
    "name": "ipython",
    "version": 3
   },
   "file_extension": ".py",
   "mimetype": "text/x-python",
   "name": "python",
   "nbconvert_exporter": "python",
   "pygments_lexer": "ipython3",
   "version": "3.6.4"
  }
 },
 "nbformat": 4,
 "nbformat_minor": 2
}
