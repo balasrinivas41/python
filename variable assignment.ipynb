{
 "cells": [
  {
   "cell_type": "code",
   "execution_count": 50,
   "metadata": {},
   "outputs": [
    {
     "name": "stdout",
     "output_type": "stream",
     "text": [
      "10 9.8 hi bala\n"
     ]
    }
   ],
   "source": [
    "a=10\n",
    "b=9.8\n",
    "c=\"hi bala\"\n",
    "print(a,b,c)"
   ]
  },
  {
   "cell_type": "code",
   "execution_count": 51,
   "metadata": {},
   "outputs": [
    {
     "name": "stdout",
     "output_type": "stream",
     "text": [
      "11 6.7 hi vijay\n",
      "2366357201456\n",
      "hi hari hi hari hi hari\n",
      "id of d is 1846636320 e is 2366340007760 f is  2366357201456\n",
      "id of g is 2366357027672 h is 2366357027672 l is  2366357027672\n"
     ]
    }
   ],
   "source": [
    "d,e,f=11,6.7,\"hi vijay\" # multi assignments of variable\n",
    "print(d,e,f)\n",
    "print(id(f))\n",
    "g=h=l=\"hi hari\"  # These three variables point in same address location\n",
    "print(g,h,l)\n",
    "print(\"id of d is\",id(d),\"e is\",id(e),\"f is \",id(f))\n",
    "print(\"id of g is\",id(g),\"h is\",id(h),\"l is \",id(l))"
   ]
  },
  {
   "cell_type": "code",
   "execution_count": 52,
   "metadata": {},
   "outputs": [
    {
     "name": "stdout",
     "output_type": "stream",
     "text": [
      "id of g is 2366357027672 h is 2366357025600 l is  2366290629160\n"
     ]
    }
   ],
   "source": [
    "\n",
    "l=\"h\";h=\"dada\"  # These variables point different location\n",
    "print(\"id of g is\",id(g),\"h is\",id(h),\"l is \",id(l))"
   ]
  },
  {
   "cell_type": "code",
   "execution_count": 53,
   "metadata": {},
   "outputs": [
    {
     "name": "stdout",
     "output_type": "stream",
     "text": [
      "10 is an type of <class 'int'>\n",
      "9.8 is an type of <class 'float'>\n",
      "hi bala is an type of <class 'str'>\n",
      "h is an type of <class 'str'>\n"
     ]
    }
   ],
   "source": [
    "# Every thing in a python is an object\n",
    "print(a,\"is an type of\",type(a))\n",
    "print(b,\"is an type of\",type(b))\n",
    "print(c,\"is an type of\",type(c))\n",
    "print(l,\"is an type of\",type(l))\n"
   ]
  },
  {
   "cell_type": "code",
   "execution_count": 54,
   "metadata": {},
   "outputs": [
    {
     "name": "stdout",
     "output_type": "stream",
     "text": [
      "(5+7j) is complex number ?\n",
      "True\n",
      "(5+7j) is an type of <class 'complex'>\n"
     ]
    }
   ],
   "source": [
    "z=5+7j\n",
    "print(z,\"is complex number ?\")\n",
    "print(isinstance(z,complex))\n",
    "print(z,\"is an type of\",type(z))\n"
   ]
  },
  {
   "cell_type": "code",
   "execution_count": null,
   "metadata": {},
   "outputs": [],
   "source": []
  },
  {
   "cell_type": "code",
   "execution_count": null,
   "metadata": {},
   "outputs": [],
   "source": []
  },
  {
   "cell_type": "code",
   "execution_count": null,
   "metadata": {},
   "outputs": [],
   "source": []
  }
 ],
 "metadata": {
  "kernelspec": {
   "display_name": "Python 3",
   "language": "python",
   "name": "python3"
  },
  "language_info": {
   "codemirror_mode": {
    "name": "ipython",
    "version": 3
   },
   "file_extension": ".py",
   "mimetype": "text/x-python",
   "name": "python",
   "nbconvert_exporter": "python",
   "pygments_lexer": "ipython3",
   "version": "3.6.4"
  }
 },
 "nbformat": 4,
 "nbformat_minor": 2
}
