{
 "cells": [
  {
   "cell_type": "code",
   "execution_count": 28,
   "metadata": {},
   "outputs": [
    {
     "name": "stdout",
     "output_type": "stream",
     "text": [
      "10 9.8 hi bala\n",
      "11 6.7 hi vijay\n",
      "2366357192432\n",
      "hi hari hi hari hi hari\n",
      "id of g is 2366357227480 h is 2366357227480 l is  2366357227480\n",
      "id of g is 2366357227480 h is 2366357227424 l is  2366290629160\n",
      "10 is an type of <class 'int'>\n",
      "9.8 is an type of <class 'float'>\n",
      "hi bala is an type of <class 'str'>\n",
      "h is an type of <class 'str'>\n",
      "(5+7j) is complex number ?\n",
      "(5+7j) is an type of <class 'complex'>\n"
     ]
    }
   ],
   "source": [
    "a=10\n",
    "b=9.8\n",
    "c=\"hi bala\"\n",
    "print(a,b,c)\n",
    "d,e,f=11,6.7,\"hi vijay\" # multi assignments of variable\n",
    "print(d,e,f)\n",
    "print(id(f))\n",
    "g=h=l=\"hi hari\"  # These three variables point in same address location\n",
    "print(g,h,l)\n",
    "print(\"id of g is\",id(g),\"h is\",id(h),\"l is \",id(l))\n",
    "l=\"h\";h=\"dada\"  # These variables point different location\n",
    "print(\"id of g is\",id(g),\"h is\",id(h),\"l is \",id(l))\n",
    "# Every thing in a python is an object\n",
    "print(a,\"is an type of\",type(a))\n",
    "print(b,\"is an type of\",type(b))\n",
    "print(c,\"is an type of\",type(c))\n",
    "print(l,\"is an type of\",type(l))\n",
    "z=5+7j\n",
    "print(z,\"is complex number ?\")\n",
    "#print(isinstance(5+7j,complex))\n",
    "print(z,\"is an type of\",type(z))\n"
   ]
  },
  {
   "cell_type": "code",
   "execution_count": null,
   "metadata": {},
   "outputs": [],
   "source": []
  }
 ],
 "metadata": {
  "kernelspec": {
   "display_name": "Python 3",
   "language": "python",
   "name": "python3"
  },
  "language_info": {
   "codemirror_mode": {
    "name": "ipython",
    "version": 3
   },
   "file_extension": ".py",
   "mimetype": "text/x-python",
   "name": "python",
   "nbconvert_exporter": "python",
   "pygments_lexer": "ipython3",
   "version": "3.6.4"
  }
 },
 "nbformat": 4,
 "nbformat_minor": 2
}
