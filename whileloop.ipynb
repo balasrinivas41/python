{
 "cells": [
  {
   "cell_type": "code",
   "execution_count": 2,
   "metadata": {},
   "outputs": [
    {
     "name": "stdout",
     "output_type": "stream",
     "text": [
      "product is 2098379700\n"
     ]
    }
   ],
   "source": [
    "#product of all numbers in a list\n",
    "li=[23,10,45,67,89,34]\n",
    "pr=1\n",
    "index=0\n",
    "while index < len(li):\n",
    "    pr=pr*li[index]\n",
    "    #prd=pr\n",
    "    index+=1\n",
    "print(\"product is {}\".format(pr))"
   ]
  },
  {
   "cell_type": "code",
   "execution_count": null,
   "metadata": {},
   "outputs": [],
   "source": []
  }
 ],
 "metadata": {
  "kernelspec": {
   "display_name": "Python 3",
   "language": "python",
   "name": "python3"
  },
  "language_info": {
   "codemirror_mode": {
    "name": "ipython",
    "version": 3
   },
   "file_extension": ".py",
   "mimetype": "text/x-python",
   "name": "python",
   "nbconvert_exporter": "python",
   "pygments_lexer": "ipython3",
   "version": "3.6.4"
  }
 },
 "nbformat": 4,
 "nbformat_minor": 2
}
