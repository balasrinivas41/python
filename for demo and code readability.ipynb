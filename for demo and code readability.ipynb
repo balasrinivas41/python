{
 "cells": [
  {
   "cell_type": "code",
   "execution_count": 9,
   "metadata": {},
   "outputs": [
    {
     "name": "stdout",
     "output_type": "stream",
     "text": [
      "hi bala how are you\n",
      "hi bala how are you\n",
      "hi bala how are you\n",
      "hi bala how are you\n",
      "hi bala how are you\n",
      "hi bala how are you\n",
      "hi bala how are you\n",
      "hi bala how are you\n",
      "hi bala how are you\n",
      "hi bala how are you\n",
      "machine learning example\n",
      "hi bala\n"
     ]
    }
   ],
   "source": [
    "for i in range(10):\n",
    "    print(\"hi bala how are you\")\n",
    "    \n",
    "if True:\n",
    "    print(\"machine learning example\")\n",
    "    bala=\"hi bala\"\n",
    "    print(bala)\n",
    "if True:print(\"hi bala how are you\")\n",
    "\n",
    "\n",
    "    "
   ]
  },
  {
   "cell_type": "code",
   "execution_count": null,
   "metadata": {},
   "outputs": [],
   "source": []
  }
 ],
 "metadata": {
  "kernelspec": {
   "display_name": "Python 3",
   "language": "python",
   "name": "python3"
  },
  "language_info": {
   "codemirror_mode": {
    "name": "ipython",
    "version": 3
   },
   "file_extension": ".py",
   "mimetype": "text/x-python",
   "name": "python",
   "nbconvert_exporter": "python",
   "pygments_lexer": "ipython3",
   "version": "3.6.4"
  }
 },
 "nbformat": 4,
 "nbformat_minor": 2
}
